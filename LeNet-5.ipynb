{
 "cells": [
  {
   "cell_type": "code",
   "execution_count": 4,
   "id": "b49ea11c",
   "metadata": {},
   "outputs": [],
   "source": [
    "import matplotlib.pyplot as plt\n",
    "import numpy as np \n",
    "from tensorflow.keras.datasets import mnist \n",
    "from tensorflow.keras.utils import to_categorical\n",
    "from tensorflow.keras import layers \n",
    "from tensorflow.keras import Sequential\n",
    "import tensorflow.keras "
   ]
  },
  {
   "cell_type": "markdown",
   "id": "70736a5f",
   "metadata": {},
   "source": [
    "## Importazione dataset, normalizzazione x_train e aggiunta bidimensionalita. Codifica one-hot per le etichette"
   ]
  },
  {
   "cell_type": "code",
   "execution_count": 5,
   "id": "3424896b",
   "metadata": {},
   "outputs": [
    {
     "name": "stdout",
     "output_type": "stream",
     "text": [
      "uint8\n",
      "(60000, 28, 28, 1) (60000, 10)\n"
     ]
    }
   ],
   "source": [
    "(x_train, y_train), (x_test, y_test) = mnist.load_data()\n",
    "print(x_train.dtype)\n",
    "\n",
    "x_train = x_train.astype('float32')\n",
    "x_test = x_test.astype('float32')\n",
    "\n",
    "x_train /= 255\n",
    "x_test /= 255 \n",
    "\n",
    "y_train = to_categorical(y_train, 10)\n",
    "y_test = to_categorical(y_test, 10)\n",
    "\n",
    "x_train = x_train.reshape(60000, 28, 28, 1)\n",
    "x_test = x_test.reshape(10000, 28, 28, 1)\n",
    "\n",
    "print(x_train.shape, y_train.shape)"
   ]
  },
  {
   "cell_type": "markdown",
   "id": "a22fad18",
   "metadata": {},
   "source": [
    "## Creazione modello con moduli:\n",
    "* Convoluzionale + Average pool + Convoluzionale + (flatten hai dati) + Dense + OutPut\n",
    "\n",
    "## Compilazione modello "
   ]
  },
  {
   "cell_type": "code",
   "execution_count": 11,
   "id": "3e3b9d9a",
   "metadata": {},
   "outputs": [
    {
     "name": "stdout",
     "output_type": "stream",
     "text": [
      "Model: \"sequential_5\"\n",
      "_________________________________________________________________\n",
      " Layer (type)                Output Shape              Param #   \n",
      "=================================================================\n",
      " conv2d_5 (Conv2D)           (None, 28, 28, 6)         156       \n",
      "                                                                 \n",
      " average_pooling2d (Average  (None, 14, 14, 6)         0         \n",
      " Pooling2D)                                                      \n",
      "                                                                 \n",
      " conv2d_6 (Conv2D)           (None, 10, 10, 120)       18120     \n",
      "                                                                 \n",
      " flatten (Flatten)           (None, 12000)             0         \n",
      "                                                                 \n",
      " dense (Dense)               (None, 84)                1008084   \n",
      "                                                                 \n",
      " dense_1 (Dense)             (None, 10)                850       \n",
      "                                                                 \n",
      "=================================================================\n",
      "Total params: 1027210 (3.92 MB)\n",
      "Trainable params: 1027210 (3.92 MB)\n",
      "Non-trainable params: 0 (0.00 Byte)\n",
      "_________________________________________________________________\n"
     ]
    }
   ],
   "source": [
    "model = Sequential()\n",
    "\n",
    "model.add(\n",
    "    layers.Conv2D(\n",
    "        6,\n",
    "        kernel_size=(5,5),\n",
    "        strides = (1,1),\n",
    "        activation = 'tanh',\n",
    "        input_shape = (28, 28, 1),\n",
    "        padding = 'same'\n",
    "    )\n",
    ")\n",
    "\n",
    "model.add(\n",
    "    layers.AveragePooling2D(\n",
    "        pool_size=(2, 2), \n",
    "        strides=(2, 2), \n",
    "        padding='valid'\n",
    "    )\n",
    ")\n",
    "\n",
    "model.add(\n",
    "    layers.Conv2D(\n",
    "        120,\n",
    "        kernel_size=(5,5),\n",
    "        strides=(1,1),\n",
    "        activation= 'tanh',\n",
    "        padding='valid',\n",
    "    )\n",
    ")\n",
    "\n",
    "model.add(layers.Flatten())\n",
    "model.add(layers.Dense(84, activation = 'tanh'))\n",
    "model.add(layers.Dense(10, activation = 'softmax'))\n",
    "\n",
    "model.compile(\n",
    "    loss= 'categorical_crossentropy',\n",
    "    optimizer='adam',\n",
    "    metrics = ['accuracy']\n",
    ")\n",
    "\n",
    "model.summary()"
   ]
  },
  {
   "cell_type": "markdown",
   "id": "3476f97d",
   "metadata": {},
   "source": [
    "## Addestramento modello"
   ]
  },
  {
   "cell_type": "code",
   "execution_count": 12,
   "id": "614cf0ff",
   "metadata": {},
   "outputs": [
    {
     "name": "stdout",
     "output_type": "stream",
     "text": [
      "Epoch 1/10\n",
      "1875/1875 - 54s - loss: 0.2522 - accuracy: 0.9267 - val_loss: 0.1927 - val_accuracy: 0.9432 - 54s/epoch - 29ms/step\n",
      "Epoch 2/10\n",
      "1875/1875 - 60s - loss: 0.1910 - accuracy: 0.9437 - val_loss: 0.1892 - val_accuracy: 0.9420 - 60s/epoch - 32ms/step\n",
      "Epoch 3/10\n",
      "1875/1875 - 60s - loss: 0.1789 - accuracy: 0.9467 - val_loss: 0.1612 - val_accuracy: 0.9523 - 60s/epoch - 32ms/step\n",
      "Epoch 4/10\n",
      "1875/1875 - 61s - loss: 0.1664 - accuracy: 0.9500 - val_loss: 0.1584 - val_accuracy: 0.9544 - 61s/epoch - 32ms/step\n",
      "Epoch 5/10\n",
      "1875/1875 - 61s - loss: 0.1578 - accuracy: 0.9530 - val_loss: 0.1526 - val_accuracy: 0.9534 - 61s/epoch - 32ms/step\n",
      "Epoch 6/10\n",
      "1875/1875 - 62s - loss: 0.1503 - accuracy: 0.9544 - val_loss: 0.1414 - val_accuracy: 0.9565 - 62s/epoch - 33ms/step\n",
      "Epoch 7/10\n",
      "1875/1875 - 58s - loss: 0.1374 - accuracy: 0.9590 - val_loss: 0.1386 - val_accuracy: 0.9583 - 58s/epoch - 31ms/step\n",
      "Epoch 8/10\n",
      "1875/1875 - 58s - loss: 0.1379 - accuracy: 0.9576 - val_loss: 0.1312 - val_accuracy: 0.9582 - 58s/epoch - 31ms/step\n",
      "Epoch 9/10\n",
      "1875/1875 - 57s - loss: 0.1285 - accuracy: 0.9607 - val_loss: 0.1586 - val_accuracy: 0.9521 - 57s/epoch - 31ms/step\n",
      "Epoch 10/10\n",
      "1875/1875 - 59s - loss: 0.1283 - accuracy: 0.9601 - val_loss: 0.1254 - val_accuracy: 0.9613 - 59s/epoch - 31ms/step\n"
     ]
    }
   ],
   "source": [
    "hist = model.fit(x_train, y_train, epochs= 10, validation_data = (x_test, y_test), verbose = 2)"
   ]
  },
  {
   "cell_type": "markdown",
   "id": "ad6cc156",
   "metadata": {},
   "source": [
    "## Risultati di addestramento "
   ]
  },
  {
   "cell_type": "code",
   "execution_count": 13,
   "id": "e16f1459",
   "metadata": {},
   "outputs": [
    {
     "name": "stdout",
     "output_type": "stream",
     "text": [
      "313/313 [==============================] - 2s 7ms/step - loss: 0.1254 - accuracy: 0.9613\n",
      "Test loss 0.1254, accuracy 96.13%\n"
     ]
    }
   ],
   "source": [
    "test_score = model.evaluate(x_test, y_test)\n",
    "print('Test loss {:.4f}, accuracy {:.2f}%'.format(test_score[0], test_score[1] * 100))"
   ]
  },
  {
   "cell_type": "markdown",
   "id": "86ff6573",
   "metadata": {},
   "source": [
    "## Illustrazione risultati di addestramento "
   ]
  },
  {
   "cell_type": "code",
   "execution_count": 26,
   "id": "2bac745d",
   "metadata": {},
   "outputs": [
    {
     "data": {
      "text/plain": [
       "Text(0, 0.5, 'loss')"
      ]
     },
     "execution_count": 26,
     "metadata": {},
     "output_type": "execute_result"
    },
    {
     "data": {
      "image/png": "[encoded data removed]",
      "text/plain": [
       "<Figure size 448x336 with 1 Axes>"
      ]
     },
     "metadata": {},
     "output_type": "display_data"
    },
    {
     "data": {
      "image/png": "[encoded data removed]",
      "text/plain": [
       "<Figure size 448x336 with 1 Axes>"
      ]
     },
     "metadata": {},
     "output_type": "display_data"
    }
   ],
   "source": [
    "f, ax = plt.subplots(dpi = 70)\n",
    "ax.plot(hist.history['accuracy'],'o-')\n",
    "ax.plot(hist.history['val_accuracy'],'x-')\n",
    "\n",
    "ax.legend(['Train acc', 'Validation acc'], loc = 0)\n",
    "ax.set_title('Training/Validation loss per Epoch')\n",
    "ax.set_xlabel('Epoch')\n",
    "ax.set_ylabel('Accuracy')\n",
    "\n",
    "f2, ax2 = plt.subplots( dpi = 70)\n",
    "ax2.plot(hist.history['loss'])\n",
    "ax2.plot(hist.history['val_loss'])\n",
    "ax2.legend(['Train loss', 'validation loss'], loc=0)\n",
    "ax2.set_title('Training/Validation loss per Epoch')\n",
    "ax2.set_xlabel('Epoch')\n",
    "ax2.set_ylabel('loss')"
   ]
  },
  {
   "cell_type": "markdown",
   "id": "2e732234",
   "metadata": {},
   "source": [
    "## Numero risultati correttamente identificati con le predizioni del modello "
   ]
  },
  {
   "cell_type": "code",
   "execution_count": 28,
   "id": "20750044",
   "metadata": {},
   "outputs": [
    {
     "name": "stdout",
     "output_type": "stream",
     "text": [
      "157/157 [==============================] - 1s 7ms/step\n",
      "Risultati: 4754 correttamente identificate su 5000 (95.08%)\n"
     ]
    }
   ],
   "source": [
    "start, end = 0, 5000\n",
    "\n",
    "prediction = model.predict(x_test[start:end])\n",
    "\n",
    "length = end-start\n",
    "success = 0\n",
    "\n",
    "\n",
    "classes = np.argmax(prediction, axis=1)\n",
    "\n",
    "\n",
    "for i in range(0, len(classes)):\n",
    "  # print(\"prediction -> \", classes[i])\n",
    "  # print(\"label      -> \", np.argmax(y_test[i+start]))\n",
    "  # print(\"\\n\")\n",
    "  if classes[i] == np.argmax(y_test[i+start]):\n",
    "    success +=1\n",
    "\n",
    "print(\"Risultati: {} correttamente identificate su {} ({:.2f}%)\".format(\n",
    "    success,\n",
    "    length,\n",
    "    success/length*100\n",
    "    )\n",
    ")"
   ]
  },
  {
   "cell_type": "code",
   "execution_count": null,
   "id": "e2777371",
   "metadata": {},
   "outputs": [],
   "source": []
  }
 ],
 "metadata": {
  "kernelspec": {
   "display_name": "Python 3 (ipykernel)",
   "language": "python",
   "name": "python3"
  },
  "language_info": {
   "codemirror_mode": {
    "name": "ipython",
    "version": 3
   },
   "file_extension": ".py",
   "mimetype": "text/x-python",
   "name": "python",
   "nbconvert_exporter": "python",
   "pygments_lexer": "ipython3",
   "version": "3.11.4"
  }
 },
 "nbformat": 4,
 "nbformat_minor": 5
}
